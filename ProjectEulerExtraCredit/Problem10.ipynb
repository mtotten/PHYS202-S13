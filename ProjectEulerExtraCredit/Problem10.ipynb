{
 "metadata": {
  "name": "Problem10"
 },
 "nbformat": 3,
 "nbformat_minor": 0,
 "worksheets": [
  {
   "cells": [
    {
     "cell_type": "markdown",
     "metadata": {},
     "source": [
      "The sum of the primes below 10 is 2 + 3 + 5 + 7 = 17.\n",
      "\n",
      "Find the sum of all the primes below two million."
     ]
    },
    {
     "cell_type": "code",
     "collapsed": false,
     "input": [
      "\n",
      " \n",
      "def SumPrimes(i):\n",
      "    if i < 2: \n",
      "        return 0\n",
      "    if i == 2: \n",
      "        return 2\n",
      "    if i % 2 == 0: \n",
      "        i += 1\n",
      "    prime = [True] * i\n",
      "    prime[0],prime[1] = [None] * 2\n",
      "    sum = 0\n",
      "    #this enumerate function is awesome!\n",
      "    for index,value in enumerate(prime):\n",
      "        if value is True and index > i ** 0.5 + 1:\n",
      "                sum += index\n",
      "        elif value is True:\n",
      "            prime[index*2::index] = [False] * (((i - 1)//index) - 1)\n",
      "            sum += index\n",
      "    return sum\n",
      " \n",
      "sum = SumPrimes(2000000)\n",
      "\n",
      " \n",
      "print sum"
     ],
     "language": "python",
     "metadata": {},
     "outputs": [
      {
       "output_type": "stream",
       "stream": "stdout",
       "text": [
        "142913828922\n"
       ]
      }
     ],
     "prompt_number": 10
    },
    {
     "cell_type": "code",
     "collapsed": false,
     "input": [],
     "language": "python",
     "metadata": {},
     "outputs": [],
     "prompt_number": 8
    },
    {
     "cell_type": "code",
     "collapsed": false,
     "input": [],
     "language": "python",
     "metadata": {},
     "outputs": []
    }
   ],
   "metadata": {}
  }
 ]
}