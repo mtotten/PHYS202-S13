{
 "metadata": {
  "name": "Problem5"
 },
 "nbformat": 3,
 "nbformat_minor": 0,
 "worksheets": [
  {
   "cells": [
    {
     "cell_type": "markdown",
     "metadata": {},
     "source": [
      "2520 is the smallest number that can be divided by each of the numbers from 1 to 10 without any remainder.\n",
      "\n",
      "What is the smallest positive number that is evenly divisible by all of the numbers from 1 to 20?"
     ]
    },
    {
     "cell_type": "code",
     "collapsed": false,
     "input": [
      "def CommonDenominator(Number1, Number2):\n",
      "    if (Number2 == 0): \n",
      "        return Number1\n",
      "    else: \n",
      "        return CommonDenominator(Number2, Number1%Number2)\n",
      "\n",
      "def CommonMultiple(Number1, Number2):\n",
      "    return abs(Number1*Number2) / CommonDenominator(Number1, Number2)\n",
      "\n",
      "def LeastMultiple(i):\n",
      "    if (i == 1): \n",
      "        return 1\n",
      "    else: \n",
      "        return CommonMultiple(i, LeastMultiple(i-1))\n",
      "\n",
      "print LeastMultiple(20)\n"
     ],
     "language": "python",
     "metadata": {},
     "outputs": [
      {
       "output_type": "stream",
       "stream": "stdout",
       "text": [
        "232792560\n"
       ]
      }
     ],
     "prompt_number": 1
    },
    {
     "cell_type": "code",
     "collapsed": false,
     "input": [],
     "language": "python",
     "metadata": {},
     "outputs": []
    }
   ],
   "metadata": {}
  }
 ]
}