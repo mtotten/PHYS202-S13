{
 "metadata": {
  "name": "Problem7"
 },
 "nbformat": 3,
 "nbformat_minor": 0,
 "worksheets": [
  {
   "cells": [
    {
     "cell_type": "markdown",
     "metadata": {},
     "source": [
      "By listing the first six prime numbers: 2, 3, 5, 7, 11, and 13, we can see that the 6th prime is 13.\n",
      "\n",
      "What is the 10 001st prime number?"
     ]
    },
    {
     "cell_type": "code",
     "collapsed": false,
     "input": [
      "def CheckPrime(i):\n",
      "    if i % 2 == 0: \n",
      "        return False\n",
      "    OddFactor = 3\n",
      "    while OddFactor < i**0.5+1:\n",
      "        if i % OddFactor == 0: \n",
      "            return False\n",
      "        OddFactor += 2\n",
      "    return True\n",
      " \n",
      "def NumberOfPrimes(i):\n",
      "    factor = 2\n",
      "    counter = 1\n",
      "    iter = 3\n",
      "    while counter < i:\n",
      "        if CheckPrime(iter):\n",
      "            factor = iter\n",
      "            counter += 1\n",
      "        iter += 2\n",
      "    return prime\n",
      "\n",
      "Answer = NumberOfPrimes(10001)\n",
      "\n",
      "print Answer\n",
      "    "
     ],
     "language": "python",
     "metadata": {},
     "outputs": [
      {
       "output_type": "stream",
       "stream": "stdout",
       "text": [
        "104743\n"
       ]
      }
     ],
     "prompt_number": 10
    },
    {
     "cell_type": "code",
     "collapsed": false,
     "input": [],
     "language": "python",
     "metadata": {},
     "outputs": []
    }
   ],
   "metadata": {}
  }
 ]
}