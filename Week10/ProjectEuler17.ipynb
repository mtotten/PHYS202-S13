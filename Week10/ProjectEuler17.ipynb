{
 "metadata": {
  "name": "ProjectEuler17"
 },
 "nbformat": 3,
 "nbformat_minor": 0,
 "worksheets": [
  {
   "cells": [
    {
     "cell_type": "markdown",
     "metadata": {},
     "source": [
      "If the numbers 1 to 5 are written out in words: one, two, three, four, five, then there are 3 + 3 + 5 + 4 + 4 = 19 letters used in total.\n",
      "\n",
      "If all the numbers from 1 to 1000 (one thousand) inclusive were written out in words, how many letters would be used?\n",
      "\n",
      "\n",
      "NOTE: Do not count spaces or hyphens. For example, 342 (three hundred and forty-two) contains 23 letters and 115 (one hundred and fifteen) contains 20 letters. The use of \"and\" when writing out numbers is in compliance with British usage.\n",
      "\n"
     ]
    },
    {
     "cell_type": "code",
     "collapsed": false,
     "input": [
      "number = {\n",
      "    1:'one',2:'two',3:'three',4:'four',5:'five',6:'six',7:'seven',\n",
      "    8:'eight',9:'nine',10:'ten',11:'eleven',12:'twelve',13:'thirteen',\n",
      "    14:'fourteen',15:'fifteen',16:'sixteen',17:'seventeen',\n",
      "    18:'eighteen',19:'nineteen',20:'twenty',30:'thirty',40:'forty',\n",
      "    50:'fifty',60:'sixty',70:'seventy',80:'eighty',90:'ninety',\n",
      "    100:'hundred',1000:'thousand'} \n",
      "count = 0\n",
      "for i in range(1,1001):\n",
      "    word = str(i)    \n",
      "    if len(str(i)) == 1:\n",
      "        lettercount = len(number[i])\n",
      "    elif len(str(i)) == 2:\n",
      "        word1 = word[0:1]\n",
      "        word2 = word[1:2]\n",
      "        if i < 20:\n",
      "            lettercount = len(number[i])\n",
      "        else:\n",
      "            if word2 == '0':\n",
      "                lettercount = len(number[i])\n",
      "\n",
      "            else:\n",
      "                word1other = str(word1 + '0')\n",
      "                lettercount = len(number[int(word1other)]) + len(number[int(word2)])                \n",
      "    elif len(str(i)) == 3:\n",
      "        word1 = word[0:1]\n",
      "        word2 = word[1:2]\n",
      "        word3 = word[2:3]\n",
      "        word1other = str(word2 + '0')\n",
      "        word1and = str(word2 + word3)\n",
      "        if word1 == '1' and word2 == '0' and word3 == '0':\n",
      "            lettercount = len(number[1]) + len(number[100])\n",
      "        elif word2 == '0' and word3 == '0':\n",
      "            lettercount = len(number[int(word1)]) + len(number[100])\n",
      "        elif word2 == '0' and word3 != '0':\n",
      "            lettercount = 3 + len(number[int(word1)]) + len(number[100]) \\\n",
      "                + len(number[int(word3)])\n",
      "        elif word2 != '0' and word3 == '0':\n",
      "            lettercount = 3 + len(number[int(word1)]) + len(number[100]) \\\n",
      "                + len(number[int(word1other)])\n",
      "        elif word2 == '1' and word3 != '0':\n",
      "            lettercount = 3 + len(number[int(word1)]) + len(number[100]) \\\n",
      "                + len(number[int(word1and)])\n",
      "        else:\n",
      "            lettercount = 3 + len(number[int(word1)]) + len(number[100]) \\\n",
      "                + len(number[int(word1other)]) + len(number[int(word3)])             \n",
      "    else:\n",
      "        lettercount = len(number[1]) + len(number[1000])\n",
      " \n",
      "    count = count + lettercount\n",
      "print \"Count = %s\" % count"
     ],
     "language": "python",
     "metadata": {},
     "outputs": [
      {
       "output_type": "stream",
       "stream": "stdout",
       "text": [
        "Count = 21124\n"
       ]
      }
     ],
     "prompt_number": 26
    },
    {
     "cell_type": "code",
     "collapsed": false,
     "input": [],
     "language": "python",
     "metadata": {},
     "outputs": [],
     "prompt_number": 23
    },
    {
     "cell_type": "code",
     "collapsed": false,
     "input": [],
     "language": "python",
     "metadata": {},
     "outputs": []
    }
   ],
   "metadata": {}
  }
 ]
}